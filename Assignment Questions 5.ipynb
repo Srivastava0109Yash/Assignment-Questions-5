{
 "cells": [
  {
   "cell_type": "markdown",
   "id": "c1b97007",
   "metadata": {},
   "source": [
    "## Q1."
   ]
  },
  {
   "cell_type": "code",
   "execution_count": 6,
   "id": "f5b11f6d",
   "metadata": {},
   "outputs": [
    {
     "name": "stdout",
     "output_type": "stream",
     "text": [
      "[[1, 2], [3, 4]]\n"
     ]
    }
   ],
   "source": [
    "def construct2DArray(original, m, n):\n",
    "    if len(original) != m * n:\n",
    "        return []\n",
    "    \n",
    "    result = []\n",
    "    for i in range(m):\n",
    "        row = original[i * n : (i + 1) * n]\n",
    "        result.append(row)\n",
    "    \n",
    "    return result\n",
    "original = [1, 2, 3, 4]\n",
    "m = 2\n",
    "n = 2\n",
    "print(construct2DArray(original, m, n))"
   ]
  },
  {
   "cell_type": "markdown",
   "id": "81eed892",
   "metadata": {},
   "source": [
    "## Q2."
   ]
  },
  {
   "cell_type": "code",
   "execution_count": 9,
   "id": "caf06f2b",
   "metadata": {},
   "outputs": [
    {
     "data": {
      "text/plain": [
       "2"
      ]
     },
     "execution_count": 9,
     "metadata": {},
     "output_type": "execute_result"
    }
   ],
   "source": [
    "def coins(n):\n",
    "    k=0\n",
    "    \n",
    "    while (k*(k+1)//2) <=n:\n",
    "        k+=1\n",
    "    \n",
    "    return k-1\n",
    "    \n",
    "n=5\n",
    "coins(n)"
   ]
  },
  {
   "cell_type": "markdown",
   "id": "15911e31",
   "metadata": {},
   "source": [
    "## Q3."
   ]
  },
  {
   "cell_type": "code",
   "execution_count": 11,
   "id": "821731d7",
   "metadata": {},
   "outputs": [
    {
     "name": "stdout",
     "output_type": "stream",
     "text": [
      "[0, 1, 9, 16, 100]\n"
     ]
    }
   ],
   "source": [
    "def arrange(arr):\n",
    "    \n",
    "    arr=[num**2 for num in arr]\n",
    "    arr.sort()\n",
    "    return arr\n",
    "arr = [-4, -1, 0, 3, 10]\n",
    "print(arrange(arr))"
   ]
  },
  {
   "cell_type": "markdown",
   "id": "ff010fd0",
   "metadata": {},
   "source": [
    "## Q4."
   ]
  },
  {
   "cell_type": "code",
   "execution_count": 12,
   "id": "45e6f562",
   "metadata": {},
   "outputs": [
    {
     "name": "stdout",
     "output_type": "stream",
     "text": [
      "[[1, 3], [4, 6]]\n"
     ]
    }
   ],
   "source": [
    "def find_disjoint_elements(nums1, nums2):\n",
    "    set1 = set(nums1)\n",
    "    set2 = set(nums2)\n",
    "\n",
    "    result1 = [num for num in nums1 if num not in set2]\n",
    "    result2 = [num for num in nums2 if num not in set1]\n",
    "\n",
    "    return [result1, result2]\n",
    "\n",
    "nums1 = [1, 2, 3]\n",
    "nums2 = [2, 4, 6]\n",
    "print(find_disjoint_elements(nums1, nums2))"
   ]
  },
  {
   "cell_type": "markdown",
   "id": "7d84e729",
   "metadata": {},
   "source": [
    "## Q5"
   ]
  },
  {
   "cell_type": "code",
   "execution_count": 13,
   "id": "abf54c12",
   "metadata": {},
   "outputs": [
    {
     "name": "stdout",
     "output_type": "stream",
     "text": [
      "2\n"
     ]
    }
   ],
   "source": [
    "def distance_value(arr1, arr2, d):\n",
    "    distance = 0\n",
    "    for num in arr1:\n",
    "        found = False\n",
    "        for other in arr2:\n",
    "            if abs(num - other) <= d:\n",
    "                found = True\n",
    "                break\n",
    "        if not found:\n",
    "            distance += 1\n",
    "    return distance\n",
    "\n",
    "arr1 = [4, 5, 8]\n",
    "arr2 = [10, 9, 1, 8]\n",
    "d = 2\n",
    "print(distance_value(arr1, arr2, d))"
   ]
  },
  {
   "cell_type": "markdown",
   "id": "1a89eb07",
   "metadata": {},
   "source": [
    "## Q6"
   ]
  },
  {
   "cell_type": "code",
   "execution_count": 14,
   "id": "3507272e",
   "metadata": {},
   "outputs": [
    {
     "data": {
      "text/plain": [
       "[2, 3]"
      ]
     },
     "execution_count": 14,
     "metadata": {},
     "output_type": "execute_result"
    }
   ],
   "source": [
    "def findDuplicates(nums):\n",
    "    result = []\n",
    "    for num in nums:\n",
    "        index = abs(num) - 1\n",
    "        if nums[index] > 0:\n",
    "            nums[index] *= -1\n",
    "        else:\n",
    "            result.append(abs(num))\n",
    "    return result\n",
    "\n",
    "nums = [4,3,2,7,8,2,3,1]\n",
    "findDuplicates(nums)"
   ]
  },
  {
   "cell_type": "markdown",
   "id": "49531253",
   "metadata": {},
   "source": [
    "## Q7"
   ]
  },
  {
   "cell_type": "code",
   "execution_count": 17,
   "id": "6f12501b",
   "metadata": {},
   "outputs": [
    {
     "data": {
      "text/plain": [
       "1"
      ]
     },
     "execution_count": 17,
     "metadata": {},
     "output_type": "execute_result"
    }
   ],
   "source": [
    "def findMin(nums):\n",
    "    left = 0\n",
    "    right = len(nums) - 1\n",
    "\n",
    "    while left < right:\n",
    "        mid = (left + right) // 2\n",
    "\n",
    "        if nums[mid] > nums[right]:\n",
    "            left = mid + 1\n",
    "        else:\n",
    "            right = mid\n",
    "\n",
    "    return nums[left]\n",
    "\n",
    "nums = [3,4,5,1,2]\n",
    "findMin(nums)"
   ]
  },
  {
   "cell_type": "markdown",
   "id": "7f5e18be",
   "metadata": {},
   "source": [
    "## Q8"
   ]
  },
  {
   "cell_type": "code",
   "execution_count": 20,
   "id": "99cd3046",
   "metadata": {},
   "outputs": [
    {
     "name": "stdout",
     "output_type": "stream",
     "text": [
      "[1, 3, 4]\n"
     ]
    }
   ],
   "source": [
    "from collections import Counter\n",
    "\n",
    "def findOriginalArray(changed):\n",
    "    count = Counter(changed)\n",
    "\n",
    "    original = []\n",
    "    for num in changed:\n",
    "        if count[num] == 0:\n",
    "            continue\n",
    "\n",
    "        double_num = 2 * num\n",
    "        if count[double_num] == 0:\n",
    "            return []\n",
    "\n",
    "        original.append(num)\n",
    "        count[num] -= 1\n",
    "        count[double_num] -= 1\n",
    "\n",
    "    return original\n",
    "\n",
    "\n",
    "changed = [1, 3, 4, 2, 6, 8]\n",
    "print(findOriginalArray(changed))"
   ]
  },
  {
   "cell_type": "code",
   "execution_count": null,
   "id": "878b49ca",
   "metadata": {},
   "outputs": [],
   "source": []
  }
 ],
 "metadata": {
  "kernelspec": {
   "display_name": "Python 3 (ipykernel)",
   "language": "python",
   "name": "python3"
  },
  "language_info": {
   "codemirror_mode": {
    "name": "ipython",
    "version": 3
   },
   "file_extension": ".py",
   "mimetype": "text/x-python",
   "name": "python",
   "nbconvert_exporter": "python",
   "pygments_lexer": "ipython3",
   "version": "3.9.7"
  }
 },
 "nbformat": 4,
 "nbformat_minor": 5
}
